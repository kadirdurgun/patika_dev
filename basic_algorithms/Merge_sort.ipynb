{
 "cells": [
  {
   "cell_type": "markdown",
   "metadata": {},
   "source": [
    "### [16,21,11,8,12,22] -> Merge Sort"
   ]
  },
  {
   "cell_type": "markdown",
   "metadata": {},
   "source": [
    "#### - Cevap 1 - (Yukarıda verilen dizinin sort türüne göre aşamalarını yazınız.)"
   ]
  },
  {
   "cell_type": "markdown",
   "metadata": {},
   "source": [
    "* [16,21,11,8,12,22]\n",
    "\n",
    "* [16,21,11] [8,12,22]\n",
    "\n",
    "* [16] [21,11] [8,12][22]\n",
    "\n",
    "* [16][21][11][8][12][22]\n",
    "\n",
    "* [16][11,21][8,12][22]\n",
    "\n",
    "* [11,16,21][8,12,22]\n",
    "\n",
    "* [8,11,12,16,21,22]"
   ]
  },
  {
   "cell_type": "markdown",
   "metadata": {},
   "source": [
    "#### - Cevap 2 - (Big-O gösterimini yazınız.)"
   ]
  },
  {
   "cell_type": "markdown",
   "metadata": {},
   "source": [
    "* O(nlogn)"
   ]
  },
  {
   "cell_type": "markdown",
   "metadata": {},
   "source": []
  }
 ],
 "metadata": {
  "interpreter": {
   "hash": "97ae724bfa85b9b34df7982b8bb8c7216f435b92902d749e4263f71162bea840"
  },
  "kernelspec": {
   "display_name": "Python 3.8.8 64-bit ('base': conda)",
   "language": "python",
   "name": "python3"
  },
  "language_info": {
   "name": "python",
   "version": "3.8.8"
  },
  "orig_nbformat": 4
 },
 "nbformat": 4,
 "nbformat_minor": 2
}
