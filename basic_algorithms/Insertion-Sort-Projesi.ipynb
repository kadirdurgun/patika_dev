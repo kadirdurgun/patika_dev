{
 "cells": [
  {
   "cell_type": "markdown",
   "metadata": {},
   "source": [
    "### [22,27,16,2,18,6] --> Insertıon Sort"
   ]
  },
  {
   "cell_type": "markdown",
   "metadata": {},
   "source": [
    "#### - Cevap 1 - (Yukarıda verilen dizinin sort türüne göre aşamalarını yazınız.)\n"
   ]
  },
  {
   "cell_type": "markdown",
   "metadata": {},
   "source": [
    "* [22,27,16,2,18,6]\n",
    "* [2,27,16,22,18,6]\n",
    "* [2,6,16,22,18,27]\n",
    "* [2,6,16,18,22,27]\n",
    "    "
   ]
  },
  {
   "cell_type": "markdown",
   "metadata": {},
   "source": [
    "#### - Cevap 2 - (Big-O gösterimini yazınız.)"
   ]
  },
  {
   "cell_type": "markdown",
   "metadata": {},
   "source": [
    "* n+(n-1)+(n-2)+…+1\n",
    "* (n.(n+1))/2\n",
    "* (n²+n)/2\n",
    "* O(n²)"
   ]
  },
  {
   "cell_type": "markdown",
   "metadata": {},
   "source": [
    "#### - Cevap 3 - (Time Complexity: Average case: Aradığımız sayının ortada olması,Worst case: Aradığımız sayının sonda olması, Best case: Aradığımız sayının dizinin en başında olması.)"
   ]
  },
  {
   "cell_type": "markdown",
   "metadata": {},
   "source": [
    "* Average case: n²\n",
    "* Worst case: n\n",
    "* Best case: n²"
   ]
  },
  {
   "cell_type": "markdown",
   "metadata": {},
   "source": [
    "#### - Cevap 4 - (Dizi sıralandıktan sonra 18 sayısı hangi case kapsamına girer? Yazınız.)"
   ]
  },
  {
   "cell_type": "markdown",
   "metadata": {},
   "source": [
    "* [2,6,16,18,22,27] Average case"
   ]
  },
  {
   "cell_type": "markdown",
   "metadata": {},
   "source": [
    "##### ---- [7,3,5,8,2,9,4,15,6] dizisinin Insertion Sort'a göre ilk 4 adımını yazınız."
   ]
  },
  {
   "cell_type": "markdown",
   "metadata": {},
   "source": [
    "* 0-[7,3,5,8,2,9,4,15,6]\n",
    "* 1-[2,3,5,8,7,9,4,15,6]\n",
    "* 2-[2,3,4,8,7,9,5,15,6]\n",
    "* 3-[2,3,4,5,7,9,8,15,6]\n",
    "* 4-[2,3,4,5,6,9,8,15,7]"
   ]
  }
 ],
 "metadata": {
  "interpreter": {
   "hash": "97ae724bfa85b9b34df7982b8bb8c7216f435b92902d749e4263f71162bea840"
  },
  "kernelspec": {
   "display_name": "Python 3.8.8 64-bit ('base': conda)",
   "language": "python",
   "name": "python3"
  },
  "language_info": {
   "codemirror_mode": {
    "name": "ipython",
    "version": 3
   },
   "file_extension": ".py",
   "mimetype": "text/x-python",
   "name": "python",
   "nbconvert_exporter": "python",
   "pygments_lexer": "ipython3",
   "version": "3.8.8"
  },
  "orig_nbformat": 4
 },
 "nbformat": 4,
 "nbformat_minor": 2
}
